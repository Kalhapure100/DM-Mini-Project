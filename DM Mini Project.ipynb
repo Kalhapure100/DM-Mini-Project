{
 "cells": [
  {
   "cell_type": "code",
   "execution_count": 13,
   "id": "f3f76366",
   "metadata": {},
   "outputs": [
    {
     "name": "stdout",
     "output_type": "stream",
     "text": [
      "   Pregnancies  Glucose  BloodPressure  SkinThickness  Insulin   BMI  \\\n",
      "0            6      148             72             35        0  33.6   \n",
      "1            1       85             66             29        0  26.6   \n",
      "2            8      183             64              0        0  23.3   \n",
      "3            1       89             66             23       94  28.1   \n",
      "4            0      137             40             35      168  43.1   \n",
      "\n",
      "   DiabetesPedigreeFunction  Age  Outcome  \n",
      "0                     0.627   50        1  \n",
      "1                     0.351   31        0  \n",
      "2                     0.672   32        1  \n",
      "3                     0.167   21        0  \n",
      "4                     2.288   33        1  \n",
      "Accuracy: 74.46%\n",
      "Classification Report:\n",
      "              precision    recall  f1-score   support\n",
      "\n",
      "           0       0.82      0.79      0.80       151\n",
      "           1       0.62      0.66      0.64        80\n",
      "\n",
      "    accuracy                           0.74       231\n",
      "   macro avg       0.72      0.73      0.72       231\n",
      "weighted avg       0.75      0.74      0.75       231\n",
      "\n",
      "Prediction for the diabetic sample: Diabetic\n"
     ]
    },
    {
     "name": "stderr",
     "output_type": "stream",
     "text": [
      "C:\\ProgramData\\Anaconda3\\lib\\site-packages\\sklearn\\base.py:450: UserWarning: X does not have valid feature names, but StandardScaler was fitted with feature names\n",
      "  warnings.warn(\n"
     ]
    }
   ],
   "source": [
    "import pandas as pd\n",
    "from sklearn.model_selection import train_test_split\n",
    "from sklearn.preprocessing import StandardScaler\n",
    "from sklearn.naive_bayes import GaussianNB\n",
    "from sklearn.metrics import accuracy_score, classification_report\n",
    "\n",
    "\n",
    "data = pd.read_csv('diabetes.csv')\n",
    "print(data.head())\n",
    "\n",
    "\n",
    "X = data.drop('Outcome', axis=1)\n",
    "y = data['Outcome']\n",
    "X_train, X_test, y_train, y_test = train_test_split(X, y, test_size=0.3, random_state=42)\n",
    "\n",
    "scaler = StandardScaler()\n",
    "X_train = scaler.fit_transform(X_train)\n",
    "X_test = scaler.transform(X_test)\n",
    "\n",
    "model = GaussianNB()\n",
    "model.fit(X_train, y_train)\n",
    "\n",
    "y_pred = model.predict(X_test)\n",
    "\n",
    "accuracy = accuracy_score(y_test, y_pred)\n",
    "report = classification_report(y_test, y_pred)\n",
    "\n",
    "print(f'Accuracy: {accuracy * 100:.2f}%')\n",
    "print('Classification Report:')\n",
    "print(report)\n",
    "\n",
    "\n",
    "'''new_sample = [[8, 166, 72, 19, 175, 25.8, 0.587, 90]] \n",
    "new_sample_scaled = scaler.transform(new_sample)\n",
    "prediction = model.predict(new_sample_scaled)\n",
    "print('Prediction for the new sample:', 'Diabetic' if prediction[0] == 1 else 'Not Diabetic')'''\n",
    "\n",
    "diabetic_sample = [[8, 166, 72, 19, 175, 25.8, 0.587, 90]] \n",
    "diabetic_sample_scaled = scaler.transform(diabetic_sample)\n",
    "diabetic_prediction = model.predict(diabetic_sample_scaled)\n",
    "print('Prediction for the diabetic sample:', 'Diabetic' if diabetic_prediction[0] == 1 else 'Not Diabetic')\n",
    "\n",
    "# Predict for a non-diabetic sample\n",
    "#non_diabetic_sample = [[5, 99, 60, 23, 94, 28.1, 0.167, 21]]  # Example non-diabetic sample\n",
    "#non_diabetic_sample_scaled = scaler.transform(non_diabetic_sample)\n",
    "#non_diabetic_prediction = model.predict(non_diabetic_sample_scaled)\n",
    "#print('Prediction for the non-diabetic sample:', 'Diabetic' if non_diabetic_prediction[0] == 1 else 'Not Diabetic')\n"
   ]
  },
  {
   "cell_type": "code",
   "execution_count": null,
   "id": "8ce7e094",
   "metadata": {},
   "outputs": [],
   "source": []
  },
  {
   "cell_type": "code",
   "execution_count": null,
   "id": "0f5a6014",
   "metadata": {},
   "outputs": [],
   "source": []
  }
 ],
 "metadata": {
  "kernelspec": {
   "display_name": "Python 3 (ipykernel)",
   "language": "python",
   "name": "python3"
  },
  "language_info": {
   "codemirror_mode": {
    "name": "ipython",
    "version": 3
   },
   "file_extension": ".py",
   "mimetype": "text/x-python",
   "name": "python",
   "nbconvert_exporter": "python",
   "pygments_lexer": "ipython3",
   "version": "3.9.13"
  }
 },
 "nbformat": 4,
 "nbformat_minor": 5
}
